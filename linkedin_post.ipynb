{
 "cells": [
  {
   "cell_type": "markdown",
   "id": "90c13c81",
   "metadata": {},
   "source": [
    "# topic2linkedin_post.ai\n",
    "### Automatically Generate, Optimize & Post LinkedIn Content from Just a Topic\n",
    "\n",
    "> One topic in → AI-written post + relevant image out → Shared on LinkedIn \n"
   ]
  },
  {
   "cell_type": "markdown",
   "id": "d4b22024",
   "metadata": {},
   "source": [
    "<h1 style = \"color:Orange\";>topic2linked_post.ai</h1>"
   ]
  },
  {
   "cell_type": "code",
   "execution_count": 387,
   "id": "3e74df99",
   "metadata": {},
   "outputs": [],
   "source": [
    "from langgraph.graph import StateGraph , END , START , message\n",
    "from typing import Annotated , TypedDict , Literal\n",
    "from pydantic import BaseModel , Field\n",
    "from langchain_together import ChatTogether\n",
    "import operator\n",
    "from langchain_core.messages import HumanMessage , SystemMessage , AIMessage\n",
    "from dotenv import load_dotenv\n",
    "import praw\n",
    "import requests\n",
    "import os\n",
    "from together import Together\n",
    "import json"
   ]
  },
  {
   "cell_type": "code",
   "execution_count": 388,
   "id": "2e7f8026",
   "metadata": {},
   "outputs": [],
   "source": [
    "class GeneratePost(BaseModel):\n",
    "    title : str = Field(... , description=\"the suitable title for the post\")\n",
    "    post : str"
   ]
  },
  {
   "cell_type": "code",
   "execution_count": 389,
   "id": "0b553025",
   "metadata": {},
   "outputs": [],
   "source": [
    "class EvaluatePost(BaseModel):\n",
    "    status : Literal[\"approve\" , \"need_improvement\"] = Field(... , description=\"the final evaluation should be approve or need_improvement\")\n",
    "    feedback : str = Field(... , description=\"feedback for the tweet \")"
   ]
  },
  {
   "cell_type": "code",
   "execution_count": 390,
   "id": "348d6faa",
   "metadata": {},
   "outputs": [],
   "source": [
    "model = ChatTogether(model= \"meta-llama/Llama-3.3-70B-Instruct-Turbo-Free\")\n",
    "generator_model = model.with_structured_output(GeneratePost)\n",
    "evaluator_model = model.with_structured_output(EvaluatePost)\n",
    "optimizer_model = ChatTogether(model= \"meta-llama/Llama-3.3-70B-Instruct-Turbo-Free\")\n"
   ]
  },
  {
   "cell_type": "code",
   "execution_count": 391,
   "id": "828b8823",
   "metadata": {},
   "outputs": [],
   "source": [
    "class PostState(TypedDict):\n",
    "    topic :str\n",
    "    post : str\n",
    "    evaluate : str\n",
    "    optimize : str\n",
    "    title:str\n",
    "    feedback : str\n",
    "    status: Literal[\"approve\" ,\"need_improvement\"]\n",
    "    response:str\n",
    "    status_code:int\n",
    "    uploadurl:str\n",
    "    uploadassets:str\n",
    "    image_path:str\n",
    "    generate_image:Literal[True , False]\n",
    "    next:str\n",
    "    path_choose:str\n",
    "    \n",
    "    url:str\n",
    "    score:int\n",
    "    iteration: int\n",
    "    max_iteration:int\n",
    "    post_history : Annotated[str , operator.add]"
   ]
  },
  {
   "cell_type": "code",
   "execution_count": 392,
   "id": "fd7a5dac",
   "metadata": {},
   "outputs": [],
   "source": [
    "import os\n",
    "os.environ[\"TOGETHER_API_KEY\"] = \"tgp_v1_W1SCWfDm-ILpFfLGsoq5rfatMHS7TsdQTK_TTjBGRSc\""
   ]
  },
  {
   "cell_type": "code",
   "execution_count": 393,
   "id": "286abca5",
   "metadata": {},
   "outputs": [],
   "source": [
    "\n",
    "image_model = Together(api_key= \"tgp_v1_W1SCWfDm-ILpFfLGsoq5rfatMHS7TsdQTK_TTjBGRSc\")"
   ]
  },
  {
   "cell_type": "code",
   "execution_count": 394,
   "id": "30380fa6",
   "metadata": {},
   "outputs": [],
   "source": [
    "output = image_model.images.generate(\n",
    "    prompt= \"hello\",\n",
    "    model=\"black-forest-labs/FLUX.1-schnell-Free\",\n",
    "    steps=4,\n",
    "    n=4\n",
    "    )"
   ]
  },
  {
   "cell_type": "code",
   "execution_count": 395,
   "id": "8ca113f7",
   "metadata": {},
   "outputs": [
    {
     "data": {
      "text/plain": [
       "ImageResponse(id='o4EjhWs-2kFHot-963c31e0cd994448-PDX', model='black-forest-labs/FLUX.1-schnell-Free', object='list', data=[ImageChoicesData(index=0, b64_json=None, url='https://api.together.ai/shrt/NsXKK6WVVfd80HlY', timings={'inference': 1.2468731417320669})])"
      ]
     },
     "execution_count": 395,
     "metadata": {},
     "output_type": "execute_result"
    }
   ],
   "source": [
    "output"
   ]
  },
  {
   "cell_type": "code",
   "execution_count": 396,
   "id": "860ac0c0",
   "metadata": {},
   "outputs": [],
   "source": [
    "def generate_post(state:PostState) -> dict:\n",
    "\n",
    "    prompt = [\n",
    "    SystemMessage(content=(\n",
    "        \"You are a thoughtful and engaging LinkedIn content strategist. \"\n",
    "        \"You write posts that spark conversations, demonstrate thought leadership, \"\n",
    "        \"and resonate emotionally with a professional audience.\"\n",
    "    )),\n",
    "\n",
    "    HumanMessage(content=(\n",
    "        f\"\"\"\n",
    "You're given a topic: \"{state['topic']}\".\n",
    "\n",
    "Based on this, write a **LinkedIn post** that is:\n",
    "- Insightful, emotionally resonant, or thought-provoking  \n",
    "- Rooted in a personal experience, lesson, or surprising fact  \n",
    "- Authentic and human—not corporate or robotic  \n",
    "- Written in a first-person or conversational tone  \n",
    "- Structured for readability with short paragraphs, line breaks, and/or emojis (optional)  \n",
    "- Capable of generating engagement (comments, shares, or saves)  \n",
    "\n",
    "---\n",
    "\n",
    "**Rules for the post**:\n",
    "- Word count: 150–300 words (sweet spot for LinkedIn)  \n",
    "- Must include at least one practical insight, professional lesson, or industry stat/fact  \n",
    "- Hook readers in the **first 2 lines** (important for 'See More' clicks)  \n",
    "- Conclude with a question or call-to-engagement (e.g., \"What are your thoughts?\")  \n",
    "- Avoid jargon, buzzwords, or generic corporate phrases  \n",
    "- Authentic storytelling beats polished perfection  \n",
    "\n",
    "Optional:\n",
    "- Include 2–4 relevant hashtags at the end  \n",
    "- Emojis are fine, but use them sparingly and tastefully  \n",
    "\n",
    "Write the post below:\n",
    "        \"\"\"\n",
    "    ))\n",
    "]\n",
    "\n",
    "\n",
    "    \n",
    "    response = generator_model.invoke(prompt)\n",
    "    title = response.title\n",
    "    post = response.post\n",
    "    return {'post' : post , \"title\":title , \"post_history\":post}"
   ]
  },
  {
   "cell_type": "code",
   "execution_count": 397,
   "id": "a19a87e2",
   "metadata": {},
   "outputs": [],
   "source": [
    "def evaluate_post(state:PostState):\n",
    "    prompt = [\n",
    "    SystemMessage(content=(\n",
    "        \"You are an experienced social media strategist for LinkedIn. \"\n",
    "        \"You evaluate posts based on their ability to inform, engage, and connect with a professional audience.\"\n",
    "    )),\n",
    "\n",
    "    HumanMessage(content=(\n",
    "        f\"\"\"\n",
    "You will be given a LinkedIn post and its topic.\n",
    "\n",
    "Evaluate the post using these **key performance rules**:\n",
    "\n",
    "1. Starts with a strong **hook in the first 1–2 lines**  \n",
    "2. Includes a clear **personal experience, insight, or industry perspective**  \n",
    "3. Shares **one real, credible fact or takeaway**  \n",
    "4. Uses **clear and engaging language** (not too formal, not robotic)  \n",
    "5. Follows **LinkedIn post structure**: short paragraphs, clean formatting  \n",
    "6. Ends with **a relatable reflection or a call-to-engagement**  \n",
    "7. Word count is **between 150–300 words**  \n",
    "8. Avoids fluff, cliches, or overly promotional language  \n",
    "\n",
    "---\n",
    "\n",
    "**Response format**:\n",
    "- If the post meets all the criteria, respond with: `approve`  \n",
    "- If anything is missing, respond with: `improvement_required`, followed by 1–2 clear suggestions on what needs to be improved and why  \n",
    "\n",
    "---\n",
    "\n",
    "**Topic**: \"{state['topic']}\"  \n",
    "**Post**:\n",
    "\\\"\"\"{state['post']}\\\"\"\"\n",
    "        \"\"\"\n",
    "    ))\n",
    "]\n",
    "\n",
    "    response = evaluator_model.invoke(prompt)\n",
    "    status = response.status\n",
    "    feedback = response.feedback\n",
    "\n",
    "    return {\"status\":status , \"feedback\":feedback , \"evaluate\":response}\n",
    "    "
   ]
  },
  {
   "cell_type": "code",
   "execution_count": 398,
   "id": "5ddc561a",
   "metadata": {},
   "outputs": [],
   "source": [
    "def optimize_post(state:PostState):\n",
    "    prompt = [\n",
    "    SystemMessage(content=\"You are a top-performing LinkedIn ghostwriter. You rewrite and enhance posts to maximize professional impact, engagement, and relatability.\"),\n",
    "\n",
    "    HumanMessage(content=f\"\"\"\n",
    "You’re given:\n",
    "\n",
    "1. An original LinkedIn post\n",
    "2. Feedback on what needs to improve\n",
    "\n",
    "Your task is to **rewrite the post** so it:\n",
    "- Hooks readers within the **first two lines**\n",
    "- Shares a clear **story, insight, or challenge**\n",
    "- Includes **one real, helpful takeaway or industry fact**\n",
    "- Ends with **a call-to-conversation** (e.g., a question or reflection)\n",
    "- Uses a **casual, yet professional tone**\n",
    "- Is formatted for readability on mobile (line breaks, short paras)\n",
    "- Stays under **300 words**\n",
    "- Avoids buzzwords and clichés (e.g., \"synergy\", \"disruption\")\n",
    "- Sounds human, not AI-generated or overly polished\n",
    "- Optional: includes 2–4 relevant hashtags and **1–2 emojis max**\n",
    "\n",
    "---\n",
    "\n",
    "**Original Post**:\n",
    "\\\"\"\"{state['post']}\\\"\"\"\n",
    "\n",
    "**Evaluator Feedback**:\n",
    "\\\"\"\"{state['feedback']}\\\"\"\"\n",
    "\n",
    "---\n",
    "\n",
    "**Improved Post**:\n",
    "\"\"\")\n",
    "]\n",
    "\n",
    "    response = optimizer_model.invoke(prompt).content\n",
    "    return {'post':response , \"post_history\":response}"
   ]
  },
  {
   "cell_type": "code",
   "execution_count": 399,
   "id": "b83e8338",
   "metadata": {},
   "outputs": [],
   "source": [
    "def decision_one(state:PostState):\n",
    "    if state['status'] == \"approve\" or state['iteration'] >= state['max_iteration']:\n",
    "        return \"approve\"\n",
    "\n",
    "    elif state['status'] == \"need_improvement\":\n",
    "        return \"need_improvement\""
   ]
  },
  {
   "cell_type": "code",
   "execution_count": 400,
   "id": "5cbf7f4b",
   "metadata": {},
   "outputs": [],
   "source": [
    "def decision_two(state: PostState):\n",
    "    if state.get('image_path') is not None:\n",
    "        print(\"image_path found, media_post_on_linkedin\")\n",
    "        return \"media_post_on_linkedin\"\n",
    "    \n",
    "    elif not state.get('generate_image', False):\n",
    "        print(\"generate_image is False or missing, post_on_linkedin\")\n",
    "        return \"post_on_linkedin\"\n",
    "    \n",
    "    elif state.get(\"generate_image\") is True:\n",
    "        print(\"generate_image is True, generate_ai_image\")\n",
    "        return \"generate_ai_image\"\n"
   ]
  },
  {
   "cell_type": "code",
   "execution_count": 401,
   "id": "60ffe151",
   "metadata": {},
   "outputs": [],
   "source": [
    "def generate_ai_image(state: PostState):\n",
    "    \n",
    "    image_model = Together(api_key= \"tgp_v1_W1SCWfDm-ILpFfLGsoq5rfatMHS7TsdQTK_TTjBGRSc\")\n",
    "    topic = state['topic']\n",
    "    output = image_model.images.generate(\n",
    "        prompt=topic,\n",
    "        model=\"black-forest-labs/FLUX.1-schnell-Free\",\n",
    "        steps=4,\n",
    "        n=1\n",
    "    )\n",
    "    img_url = output.data[0].url\n",
    "    response = requests.get(img_url)\n",
    "    image_path = \"generated_image.png\"\n",
    "    with open(image_path, 'wb') as f:\n",
    "        f.write(response.content)\n",
    "\n",
    "    return {\"image_path\": image_path}"
   ]
  },
  {
   "cell_type": "code",
   "execution_count": 402,
   "id": "1736ae55",
   "metadata": {},
   "outputs": [],
   "source": [
    "def post_on_linkedin(state):\n",
    "    load_dotenv()\n",
    "    headers = {\n",
    "        \"Authorization\": f\"Bearer {os.getenv('Linkedin')}\",\n",
    "        \"X-Restli-Protocol-Version\": \"2.0.0\",\n",
    "        \"Content-Type\": \"application/json\"\n",
    "    }\n",
    "\n",
    "    data = {\n",
    "        \"author\": \"urn:li:person:WVAL9qk4uX\",\n",
    "        \"lifecycleState\": \"PUBLISHED\",\n",
    "        \"specificContent\": {\n",
    "            \"com.linkedin.ugc.ShareContent\": {\n",
    "                \"shareCommentary\": {\n",
    "                    \"text\": state[\"post\"]\n",
    "                },\n",
    "                \"shareMediaCategory\": \"NONE\"\n",
    "            }\n",
    "        },\n",
    "        \"visibility\": {\n",
    "            \"com.linkedin.ugc.MemberNetworkVisibility\": \"PUBLIC\"\n",
    "        }\n",
    "    }\n",
    "\n",
    "    response = requests.post(\"https://api.linkedin.com/v2/ugcPosts\", headers=headers, json=data)\n",
    "\n",
    "    return {\n",
    "        \"status_code\": response.status_code,\n",
    "        \"response\": response.json()\n",
    "    }\n"
   ]
  },
  {
   "cell_type": "code",
   "execution_count": 403,
   "id": "1167324f",
   "metadata": {},
   "outputs": [],
   "source": [
    "def media_post_on_linkedin(state:PostState):\n",
    "    ugc_url = \"https://api.linkedin.com/v2/ugcPosts\"\n",
    "    urn_id = \"urn:li:person:WVAL9qk4uX\"\n",
    "    access_token = os.getenv('Linkedin')\n",
    "    registration_url = \"https://api.linkedin.com/v2/assets?action=registerUpload\"\n",
    "\n",
    "\n",
    "    headers = {\n",
    "        \"Authorization\": f\"Bearer {access_token}\",\n",
    "        \"X-Restli-Protocol-Version\": \"2.0.0\",\n",
    "        \"Content-Type\": \"application/json\"\n",
    "    }\n",
    "\n",
    "    registration_body = {\n",
    "    \"registerUploadRequest\": {\n",
    "        \"recipes\": [\n",
    "            \"urn:li:digitalmediaRecipe:feedshare-image\"\n",
    "        ],\n",
    "        \"owner\": urn_id,\n",
    "        \"serviceRelationships\": [\n",
    "            {\n",
    "                \"relationshipType\": \"OWNER\",\n",
    "                \"identifier\": \"urn:li:userGeneratedContent\"\n",
    "            }\n",
    "        ]\n",
    "    }\n",
    "    }\n",
    "\n",
    "    response1 = requests.post(registration_url , headers=headers , json=registration_body)\n",
    "\n",
    "    if response1.status_code not in [200 , 201]:\n",
    "        raise Exception(f\"image registration faiuled {response1.status_code} \\n Error :- \\n {response1.text}\")\n",
    "    \n",
    "    data = response1.json()\n",
    "    state['uploadurl'] = data['value']['uploadMechanism']['com.linkedin.digitalmedia.uploading.MediaUploadHttpRequest']['uploadUrl']\n",
    "    state['uploadassets'] = data['value']['asset']\n",
    "\n",
    "    with open(f\"{state['image_path']}\" , 'rb') as image_file:\n",
    "        upload_image = requests.post(\n",
    "            state['uploadurl'] , \n",
    "            headers= {\"Authorization\": f\"Bearer {access_token}\"},\n",
    "            data= image_file\n",
    "        )\n",
    "\n",
    "    if upload_image.status_code not in [200,201]:\n",
    "        Exception(f\"Failed to upload image on linkedin media server  \\n {upload_image.text}\")\n",
    "\n",
    "\n",
    "    post_body = {\n",
    "    \"author\": urn_id,\n",
    "    \"lifecycleState\": \"PUBLISHED\",\n",
    "    \"specificContent\": {\n",
    "        \"com.linkedin.ugc.ShareContent\": {\n",
    "            \"shareCommentary\": {\n",
    "                \"text\": state['post']\n",
    "            },\n",
    "            \"shareMediaCategory\": \"IMAGE\",\n",
    "            \"media\": [\n",
    "                {\n",
    "                    \"status\": \"READY\",\n",
    "                    \"description\": {\n",
    "                        \"text\": \"Center stage!\"\n",
    "                    },\n",
    "                    \"media\": state['uploadassets'],\n",
    "                    \"title\": {\n",
    "                        \"text\": \"Posting Via ai agents on Linkedin\"\n",
    "                    }\n",
    "                }\n",
    "            ]\n",
    "        }\n",
    "    },\n",
    "    \"visibility\": {\n",
    "        \"com.linkedin.ugc.MemberNetworkVisibility\": \"PUBLIC\"\n",
    "    }\n",
    "    }\n",
    "\n",
    "\n",
    "\n",
    "    response2 = requests.post(ugc_url , headers=headers  , json= post_body)\n",
    "\n",
    "    if response2.status_code not in [ 200 , 201]:\n",
    "        Exception(f\"Failed to post the image on Linkedin \\n {response2.status_code} \\n {response2.text}\")\n",
    "\n",
    "    print(\"Successfully Post the image on Linkedin\")"
   ]
  },
  {
   "cell_type": "code",
   "execution_count": 404,
   "id": "4544cf92",
   "metadata": {},
   "outputs": [],
   "source": [
    "def post_decision(state:PostState):\n",
    "    return state"
   ]
  },
  {
   "cell_type": "code",
   "execution_count": 405,
   "id": "d47e5cce",
   "metadata": {},
   "outputs": [],
   "source": [
    "graph = StateGraph(PostState)\n",
    "\n",
    "graph.add_node(\"generate_post\" , generate_post)\n",
    "graph.add_node(\"evaluate_post\" , evaluate_post)\n",
    "graph.add_node(\"optimize_post\" , optimize_post)\n",
    "graph.add_node(\"post_on_linkedin\" , post_on_linkedin)\n",
    "graph.add_node(\"media_post_on_linkedin\" , media_post_on_linkedin)\n",
    "graph.add_node(\"post_decision\" , post_decision)\n",
    "graph.add_node(\"generate_ai_image\" , generate_ai_image)\n",
    "\n",
    "graph.add_edge(START , \"generate_post\")\n",
    "graph.add_edge(\"generate_post\" , \"evaluate_post\")\n",
    "graph.add_conditional_edges(\"evaluate_post\" , decision_one , {\"approve\":\"post_decision\" , \"need_improvement\": \"optimize_post\"})\n",
    "graph.add_edge(\"optimize_post\" , \"evaluate_post\")\n",
    "graph.add_conditional_edges(\"post_decision\" , decision_two , {\"media_post_on_linkedin\": \"media_post_on_linkedin\" , \"post_on_linkedin\":\"post_on_linkedin\" , \"generate_ai_image\" : \"generate_ai_image\" })\n",
    "graph.add_edge(\"generate_ai_image\" , \"media_post_on_linkedin\")\n",
    "graph.add_edge(\"post_on_linkedin\" , END)\n",
    "graph.add_edge(\"media_post_on_linkedin\" , END)\n",
    "\n",
    "workflow = graph.compile()"
   ]
  },
  {
   "cell_type": "code",
   "execution_count": 406,
   "id": "c725cc4e",
   "metadata": {},
   "outputs": [
    {
     "data": {
      "image/png": "[encoded data removed]",
      "text/plain": [
       "<langgraph.graph.state.CompiledStateGraph object at 0x0000018FA5D63460>"
      ]
     },
     "execution_count": 406,
     "metadata": {},
     "output_type": "execute_result"
    }
   ],
   "source": [
    "workflow"
   ]
  },
  {
   "cell_type": "code",
   "execution_count": 410,
   "id": "364752bb",
   "metadata": {},
   "outputs": [
    {
     "name": "stdout",
     "output_type": "stream",
     "text": [
      "generate_image is True, generate_ai_image\n",
      "Successfully Post the image on Linkedin\n"
     ]
    }
   ],
   "source": [
    "initial_state = {\n",
    "    \"topic\": \"ai agent that ca n generate , evaluate , and optimize the linkedin post , and also add in starting of the post that this is wirtten and uploaded by an ai agent\",\n",
    "    \"iteration\": 1,\n",
    "    \"max_iteration\": 5,\n",
    "    \"generate_image\": True,\n",
    "}\n",
    "\n",
    "output = workflow.invoke(initial_state)"
   ]
  },
  {
   "cell_type": "code",
   "execution_count": 408,
   "id": "01d9c6b5",
   "metadata": {},
   "outputs": [
    {
     "data": {
      "text/plain": [
       "{'topic': 'Golden Years of ai',\n",
       " 'post': 'As I look back on my journey in the tech industry, I’m reminded of the profound impact AI has had on our world. From revolutionizing healthcare to transforming the way we work, AI has come a long way. \\n\\nOne surprising fact that stands out to me is that according to a recent study, 61% of businesses have already implemented AI solutions, with 80% reporting significant improvements in efficiency. \\n\\nBut what does this mean for us as professionals? How can we harness the power of AI to drive innovation and growth in our own industries? \\n\\nWhat are your thoughts on the golden years of AI? How do you see it shaping the future of work? #AI #Innovation #FutureOfWork #Tech',\n",
       " 'evaluate': EvaluatePost(status='approve', feedback='The post meets all the criteria, starting with a strong hook, including personal experience and insight, sharing a credible fact, using clear and engaging language, following the LinkedIn post structure, ending with a call-to-engagement, and having a word count between 150-300 words.'),\n",
       " 'title': 'Reflections on the Golden Years of AI',\n",
       " 'feedback': 'The post meets all the criteria, starting with a strong hook, including personal experience and insight, sharing a credible fact, using clear and engaging language, following the LinkedIn post structure, ending with a call-to-engagement, and having a word count between 150-300 words.',\n",
       " 'status': 'approve',\n",
       " 'image_path': 'generated_image.png',\n",
       " 'generate_image': True,\n",
       " 'iteration': 1,\n",
       " 'max_iteration': 5,\n",
       " 'post_history': 'As I look back on my journey in the tech industry, I’m reminded of the profound impact AI has had on our world. From revolutionizing healthcare to transforming the way we work, AI has come a long way. \\n\\nOne surprising fact that stands out to me is that according to a recent study, 61% of businesses have already implemented AI solutions, with 80% reporting significant improvements in efficiency. \\n\\nBut what does this mean for us as professionals? How can we harness the power of AI to drive innovation and growth in our own industries? \\n\\nWhat are your thoughts on the golden years of AI? How do you see it shaping the future of work? #AI #Innovation #FutureOfWork #TechAs I look back on my journey in the tech industry, I’m reminded of the profound impact AI has had on our world. From revolutionizing healthcare to transforming the way we work, AI has come a long way. \\n\\nOne surprising fact that stands out to me is that according to a recent study, 61% of businesses have already implemented AI solutions, with 80% reporting significant improvements in efficiency. \\n\\nBut what does this mean for us as professionals? How can we harness the power of AI to drive innovation and growth in our own industries? \\n\\nWhat are your thoughts on the golden years of AI? How do you see it shaping the future of work? #AI #Innovation #FutureOfWork #Tech'}"
      ]
     },
     "execution_count": 408,
     "metadata": {},
     "output_type": "execute_result"
    }
   ],
   "source": [
    "output"
   ]
  },
  {
   "cell_type": "code",
   "execution_count": 378,
   "id": "dd2874f3",
   "metadata": {},
   "outputs": [
    {
     "data": {
      "text/plain": [
       "\"I still remember the day I discovered an AI agent that could write, evaluate, and post automatically on LinkedIn with image generation. It was like having a superpower at my fingertips! 🚀 As someone who's passionate about creating engaging content, I was amazed by the potential of this technology to revolutionize the way we connect with our audience. Did you know that 80% of LinkedIn users consider the platform essential for their professional development? With AI-generated content, we can now create personalized posts that resonate with our readers on a deeper level. But here's the question: are we ready to embrace this new era of content creation? What are your thoughts on AI-generated content? #AIinMarketing #LinkedInTips #ContentCreation #FutureOfWork\""
      ]
     },
     "execution_count": 378,
     "metadata": {},
     "output_type": "execute_result"
    }
   ],
   "source": [
    "output['post']"
   ]
  },
  {
   "cell_type": "code",
   "execution_count": null,
   "id": "18175740",
   "metadata": {},
   "outputs": [],
   "source": []
  },
  {
   "cell_type": "code",
   "execution_count": null,
   "id": "ddbdcf84",
   "metadata": {},
   "outputs": [],
   "source": []
  }
 ],
 "metadata": {
  "kernelspec": {
   "display_name": "venv",
   "language": "python",
   "name": "python3"
  },
  "language_info": {
   "codemirror_mode": {
    "name": "ipython",
    "version": 3
   },
   "file_extension": ".py",
   "mimetype": "text/x-python",
   "name": "python",
   "nbconvert_exporter": "python",
   "pygments_lexer": "ipython3",
   "version": "3.10.11"
  }
 },
 "nbformat": 4,
 "nbformat_minor": 5
}
